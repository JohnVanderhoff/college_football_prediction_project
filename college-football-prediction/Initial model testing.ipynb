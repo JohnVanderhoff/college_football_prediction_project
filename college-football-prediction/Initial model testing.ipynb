{
 "cells": [
  {
   "cell_type": "markdown",
   "metadata": {},
   "source": [
    "## Initial modeling testing\n",
    "Initial code for some testing of preliminary versions of model 2, the model which takes in the realized (or later on predicted) stats for a game and outputs a prediction of the score for each team."
   ]
  },
  {
   "cell_type": "code",
   "execution_count": 1,
   "metadata": {},
   "outputs": [],
   "source": [
    "import pandas as pd\n",
    "import numpy as np\n",
    "import random\n",
    "from sklearn.linear_model import Ridge\n"
   ]
  },
  {
   "cell_type": "markdown",
   "metadata": {},
   "source": [
    "Load in the games data and then split it into train and test sets:"
   ]
  },
  {
   "cell_type": "code",
   "execution_count": 2,
   "metadata": {},
   "outputs": [
    {
     "data": {
      "text/html": [
       "<div>\n",
       "<style scoped>\n",
       "    .dataframe tbody tr th:only-of-type {\n",
       "        vertical-align: middle;\n",
       "    }\n",
       "\n",
       "    .dataframe tbody tr th {\n",
       "        vertical-align: top;\n",
       "    }\n",
       "\n",
       "    .dataframe thead th {\n",
       "        text-align: right;\n",
       "    }\n",
       "</style>\n",
       "<table border=\"1\" class=\"dataframe\">\n",
       "  <thead>\n",
       "    <tr style=\"text-align: right;\">\n",
       "      <th></th>\n",
       "      <th>school</th>\n",
       "      <th>home</th>\n",
       "      <th>school_id</th>\n",
       "      <th>points</th>\n",
       "      <th>fumblesRecovered</th>\n",
       "      <th>rushingTDs</th>\n",
       "      <th>puntReturnYards</th>\n",
       "      <th>puntReturnTDs</th>\n",
       "      <th>puntReturns</th>\n",
       "      <th>passingTDs</th>\n",
       "      <th>...</th>\n",
       "      <th>qbHurries</th>\n",
       "      <th>passesDeflected</th>\n",
       "      <th>passAttempts</th>\n",
       "      <th>passAccuracy</th>\n",
       "      <th>penaltyYards</th>\n",
       "      <th>penalties</th>\n",
       "      <th>thirdDowns</th>\n",
       "      <th>thirdDownPercentage</th>\n",
       "      <th>fourthDowns</th>\n",
       "      <th>fourthDownPercentage</th>\n",
       "    </tr>\n",
       "  </thead>\n",
       "  <tbody>\n",
       "    <tr>\n",
       "      <th>0</th>\n",
       "      <td>Vanderbilt</td>\n",
       "      <td>0</td>\n",
       "      <td>238</td>\n",
       "      <td>7</td>\n",
       "      <td>2.0</td>\n",
       "      <td>0.0</td>\n",
       "      <td>26.0</td>\n",
       "      <td>0.0</td>\n",
       "      <td>5.0</td>\n",
       "      <td>0.0</td>\n",
       "      <td>...</td>\n",
       "      <td>NaN</td>\n",
       "      <td>NaN</td>\n",
       "      <td>34</td>\n",
       "      <td>0.470588</td>\n",
       "      <td>66</td>\n",
       "      <td>7</td>\n",
       "      <td>14</td>\n",
       "      <td>0.214286</td>\n",
       "      <td>1</td>\n",
       "      <td>0.00</td>\n",
       "    </tr>\n",
       "    <tr>\n",
       "      <th>1</th>\n",
       "      <td>Temple</td>\n",
       "      <td>1</td>\n",
       "      <td>218</td>\n",
       "      <td>37</td>\n",
       "      <td>4.0</td>\n",
       "      <td>1.0</td>\n",
       "      <td>6.0</td>\n",
       "      <td>0.0</td>\n",
       "      <td>2.0</td>\n",
       "      <td>2.0</td>\n",
       "      <td>...</td>\n",
       "      <td>NaN</td>\n",
       "      <td>NaN</td>\n",
       "      <td>36</td>\n",
       "      <td>0.638889</td>\n",
       "      <td>23</td>\n",
       "      <td>3</td>\n",
       "      <td>17</td>\n",
       "      <td>0.117647</td>\n",
       "      <td>4</td>\n",
       "      <td>0.50</td>\n",
       "    </tr>\n",
       "    <tr>\n",
       "      <th>2</th>\n",
       "      <td>BYU</td>\n",
       "      <td>1</td>\n",
       "      <td>252</td>\n",
       "      <td>35</td>\n",
       "      <td>1.0</td>\n",
       "      <td>2.0</td>\n",
       "      <td>24.0</td>\n",
       "      <td>0.0</td>\n",
       "      <td>2.0</td>\n",
       "      <td>3.0</td>\n",
       "      <td>...</td>\n",
       "      <td>NaN</td>\n",
       "      <td>NaN</td>\n",
       "      <td>36</td>\n",
       "      <td>0.777778</td>\n",
       "      <td>150</td>\n",
       "      <td>15</td>\n",
       "      <td>13</td>\n",
       "      <td>0.384615</td>\n",
       "      <td>1</td>\n",
       "      <td>1.00</td>\n",
       "    </tr>\n",
       "    <tr>\n",
       "      <th>3</th>\n",
       "      <td>Connecticut</td>\n",
       "      <td>0</td>\n",
       "      <td>41</td>\n",
       "      <td>10</td>\n",
       "      <td>2.0</td>\n",
       "      <td>1.0</td>\n",
       "      <td>-1.0</td>\n",
       "      <td>0.0</td>\n",
       "      <td>1.0</td>\n",
       "      <td>0.0</td>\n",
       "      <td>...</td>\n",
       "      <td>NaN</td>\n",
       "      <td>NaN</td>\n",
       "      <td>48</td>\n",
       "      <td>0.520833</td>\n",
       "      <td>90</td>\n",
       "      <td>8</td>\n",
       "      <td>17</td>\n",
       "      <td>0.470588</td>\n",
       "      <td>4</td>\n",
       "      <td>0.25</td>\n",
       "    </tr>\n",
       "    <tr>\n",
       "      <th>4</th>\n",
       "      <td>Penn State</td>\n",
       "      <td>1</td>\n",
       "      <td>213</td>\n",
       "      <td>26</td>\n",
       "      <td>1.0</td>\n",
       "      <td>1.0</td>\n",
       "      <td>9.0</td>\n",
       "      <td>0.0</td>\n",
       "      <td>2.0</td>\n",
       "      <td>1.0</td>\n",
       "      <td>...</td>\n",
       "      <td>NaN</td>\n",
       "      <td>NaN</td>\n",
       "      <td>47</td>\n",
       "      <td>0.680851</td>\n",
       "      <td>90</td>\n",
       "      <td>9</td>\n",
       "      <td>18</td>\n",
       "      <td>0.555556</td>\n",
       "      <td>2</td>\n",
       "      <td>0.50</td>\n",
       "    </tr>\n",
       "  </tbody>\n",
       "</table>\n",
       "<p>5 rows × 50 columns</p>\n",
       "</div>"
      ],
      "text/plain": [
       "        school  home  school_id  points  fumblesRecovered  rushingTDs  \\\n",
       "0   Vanderbilt     0        238       7               2.0         0.0   \n",
       "1       Temple     1        218      37               4.0         1.0   \n",
       "2          BYU     1        252      35               1.0         2.0   \n",
       "3  Connecticut     0         41      10               2.0         1.0   \n",
       "4   Penn State     1        213      26               1.0         1.0   \n",
       "\n",
       "   puntReturnYards  puntReturnTDs  puntReturns  passingTDs  ...  qbHurries  \\\n",
       "0             26.0            0.0          5.0         0.0  ...        NaN   \n",
       "1              6.0            0.0          2.0         2.0  ...        NaN   \n",
       "2             24.0            0.0          2.0         3.0  ...        NaN   \n",
       "3             -1.0            0.0          1.0         0.0  ...        NaN   \n",
       "4              9.0            0.0          2.0         1.0  ...        NaN   \n",
       "\n",
       "   passesDeflected  passAttempts  passAccuracy  penaltyYards penalties  \\\n",
       "0              NaN            34      0.470588            66         7   \n",
       "1              NaN            36      0.638889            23         3   \n",
       "2              NaN            36      0.777778           150        15   \n",
       "3              NaN            48      0.520833            90         8   \n",
       "4              NaN            47      0.680851            90         9   \n",
       "\n",
       "  thirdDowns  thirdDownPercentage  fourthDowns fourthDownPercentage  \n",
       "0         14             0.214286            1                 0.00  \n",
       "1         17             0.117647            4                 0.50  \n",
       "2         13             0.384615            1                 1.00  \n",
       "3         17             0.470588            4                 0.25  \n",
       "4         18             0.555556            2                 0.50  \n",
       "\n",
       "[5 rows x 50 columns]"
      ]
     },
     "execution_count": 2,
     "metadata": {},
     "output_type": "execute_result"
    }
   ],
   "source": [
    "games_df = pd.read_csv(\"clean_games_data.csv\", index_col=0)\n",
    "games_df.reset_index(drop=True, inplace=True)\n",
    "games_df.head()"
   ]
  },
  {
   "cell_type": "markdown",
   "metadata": {},
   "source": [
    "Removing features which are not going to go into the model"
   ]
  },
  {
   "cell_type": "code",
   "execution_count": 3,
   "metadata": {},
   "outputs": [],
   "source": [
    "rid = [\"school\", \"school_id\", \"thirdDownEff\", \"fourthDownEff\", \"totalPenaltiesYards\", \"year\", \"week\", \"completionAttempts\", \"possessionTime\"]\n",
    "games_df.drop(rid, axis=1, inplace=True)"
   ]
  },
  {
   "cell_type": "code",
   "execution_count": 4,
   "metadata": {},
   "outputs": [],
   "source": [
    "train_density = 0.8\n",
    "games_ids = set(games_df[\"id\"])\n",
    "train_ids = random.sample(list(games_ids), int(train_density*len(games_ids)))\n",
    "test_ids = list(games_ids - set(train_ids))"
   ]
  },
  {
   "cell_type": "markdown",
   "metadata": {},
   "source": [
    "Extract the games to put into the train and test sets"
   ]
  },
  {
   "cell_type": "code",
   "execution_count": 5,
   "metadata": {},
   "outputs": [
    {
     "data": {
      "text/html": [
       "<div>\n",
       "<style scoped>\n",
       "    .dataframe tbody tr th:only-of-type {\n",
       "        vertical-align: middle;\n",
       "    }\n",
       "\n",
       "    .dataframe tbody tr th {\n",
       "        vertical-align: top;\n",
       "    }\n",
       "\n",
       "    .dataframe thead th {\n",
       "        text-align: right;\n",
       "    }\n",
       "</style>\n",
       "<table border=\"1\" class=\"dataframe\">\n",
       "  <thead>\n",
       "    <tr style=\"text-align: right;\">\n",
       "      <th></th>\n",
       "      <th>home</th>\n",
       "      <th>points</th>\n",
       "      <th>fumblesRecovered</th>\n",
       "      <th>rushingTDs</th>\n",
       "      <th>puntReturnYards</th>\n",
       "      <th>puntReturnTDs</th>\n",
       "      <th>puntReturns</th>\n",
       "      <th>passingTDs</th>\n",
       "      <th>kickReturnYards</th>\n",
       "      <th>kickReturnTDs</th>\n",
       "      <th>...</th>\n",
       "      <th>qbHurries</th>\n",
       "      <th>passesDeflected</th>\n",
       "      <th>passAttempts</th>\n",
       "      <th>passAccuracy</th>\n",
       "      <th>penaltyYards</th>\n",
       "      <th>penalties</th>\n",
       "      <th>thirdDowns</th>\n",
       "      <th>thirdDownPercentage</th>\n",
       "      <th>fourthDowns</th>\n",
       "      <th>fourthDownPercentage</th>\n",
       "    </tr>\n",
       "  </thead>\n",
       "  <tbody>\n",
       "    <tr>\n",
       "      <th>0</th>\n",
       "      <td>0</td>\n",
       "      <td>7</td>\n",
       "      <td>2.0</td>\n",
       "      <td>0.0</td>\n",
       "      <td>26.0</td>\n",
       "      <td>0.0</td>\n",
       "      <td>5.0</td>\n",
       "      <td>0.0</td>\n",
       "      <td>150.0</td>\n",
       "      <td>0.0</td>\n",
       "      <td>...</td>\n",
       "      <td>NaN</td>\n",
       "      <td>NaN</td>\n",
       "      <td>34</td>\n",
       "      <td>0.470588</td>\n",
       "      <td>66</td>\n",
       "      <td>7</td>\n",
       "      <td>14</td>\n",
       "      <td>0.214286</td>\n",
       "      <td>1</td>\n",
       "      <td>0.00</td>\n",
       "    </tr>\n",
       "    <tr>\n",
       "      <th>1</th>\n",
       "      <td>1</td>\n",
       "      <td>37</td>\n",
       "      <td>4.0</td>\n",
       "      <td>1.0</td>\n",
       "      <td>6.0</td>\n",
       "      <td>0.0</td>\n",
       "      <td>2.0</td>\n",
       "      <td>2.0</td>\n",
       "      <td>48.0</td>\n",
       "      <td>0.0</td>\n",
       "      <td>...</td>\n",
       "      <td>NaN</td>\n",
       "      <td>NaN</td>\n",
       "      <td>36</td>\n",
       "      <td>0.638889</td>\n",
       "      <td>23</td>\n",
       "      <td>3</td>\n",
       "      <td>17</td>\n",
       "      <td>0.117647</td>\n",
       "      <td>4</td>\n",
       "      <td>0.50</td>\n",
       "    </tr>\n",
       "    <tr>\n",
       "      <th>2</th>\n",
       "      <td>1</td>\n",
       "      <td>35</td>\n",
       "      <td>1.0</td>\n",
       "      <td>2.0</td>\n",
       "      <td>24.0</td>\n",
       "      <td>0.0</td>\n",
       "      <td>2.0</td>\n",
       "      <td>3.0</td>\n",
       "      <td>45.0</td>\n",
       "      <td>0.0</td>\n",
       "      <td>...</td>\n",
       "      <td>NaN</td>\n",
       "      <td>NaN</td>\n",
       "      <td>36</td>\n",
       "      <td>0.777778</td>\n",
       "      <td>150</td>\n",
       "      <td>15</td>\n",
       "      <td>13</td>\n",
       "      <td>0.384615</td>\n",
       "      <td>1</td>\n",
       "      <td>1.00</td>\n",
       "    </tr>\n",
       "    <tr>\n",
       "      <th>3</th>\n",
       "      <td>0</td>\n",
       "      <td>10</td>\n",
       "      <td>2.0</td>\n",
       "      <td>1.0</td>\n",
       "      <td>-1.0</td>\n",
       "      <td>0.0</td>\n",
       "      <td>1.0</td>\n",
       "      <td>0.0</td>\n",
       "      <td>114.0</td>\n",
       "      <td>0.0</td>\n",
       "      <td>...</td>\n",
       "      <td>NaN</td>\n",
       "      <td>NaN</td>\n",
       "      <td>48</td>\n",
       "      <td>0.520833</td>\n",
       "      <td>90</td>\n",
       "      <td>8</td>\n",
       "      <td>17</td>\n",
       "      <td>0.470588</td>\n",
       "      <td>4</td>\n",
       "      <td>0.25</td>\n",
       "    </tr>\n",
       "    <tr>\n",
       "      <th>6</th>\n",
       "      <td>0</td>\n",
       "      <td>52</td>\n",
       "      <td>1.0</td>\n",
       "      <td>3.0</td>\n",
       "      <td>28.0</td>\n",
       "      <td>0.0</td>\n",
       "      <td>4.0</td>\n",
       "      <td>4.0</td>\n",
       "      <td>36.0</td>\n",
       "      <td>0.0</td>\n",
       "      <td>...</td>\n",
       "      <td>NaN</td>\n",
       "      <td>NaN</td>\n",
       "      <td>46</td>\n",
       "      <td>0.717391</td>\n",
       "      <td>72</td>\n",
       "      <td>8</td>\n",
       "      <td>8</td>\n",
       "      <td>0.250000</td>\n",
       "      <td>1</td>\n",
       "      <td>1.00</td>\n",
       "    </tr>\n",
       "  </tbody>\n",
       "</table>\n",
       "<p>5 rows × 41 columns</p>\n",
       "</div>"
      ],
      "text/plain": [
       "   home  points  fumblesRecovered  rushingTDs  puntReturnYards  puntReturnTDs  \\\n",
       "0     0       7               2.0         0.0             26.0            0.0   \n",
       "1     1      37               4.0         1.0              6.0            0.0   \n",
       "2     1      35               1.0         2.0             24.0            0.0   \n",
       "3     0      10               2.0         1.0             -1.0            0.0   \n",
       "6     0      52               1.0         3.0             28.0            0.0   \n",
       "\n",
       "   puntReturns  passingTDs  kickReturnYards  kickReturnTDs  ...  qbHurries  \\\n",
       "0          5.0         0.0            150.0            0.0  ...        NaN   \n",
       "1          2.0         2.0             48.0            0.0  ...        NaN   \n",
       "2          2.0         3.0             45.0            0.0  ...        NaN   \n",
       "3          1.0         0.0            114.0            0.0  ...        NaN   \n",
       "6          4.0         4.0             36.0            0.0  ...        NaN   \n",
       "\n",
       "   passesDeflected  passAttempts  passAccuracy  penaltyYards  penalties  \\\n",
       "0              NaN            34      0.470588            66          7   \n",
       "1              NaN            36      0.638889            23          3   \n",
       "2              NaN            36      0.777778           150         15   \n",
       "3              NaN            48      0.520833            90          8   \n",
       "6              NaN            46      0.717391            72          8   \n",
       "\n",
       "   thirdDowns  thirdDownPercentage  fourthDowns  fourthDownPercentage  \n",
       "0          14             0.214286            1                  0.00  \n",
       "1          17             0.117647            4                  0.50  \n",
       "2          13             0.384615            1                  1.00  \n",
       "3          17             0.470588            4                  0.25  \n",
       "6           8             0.250000            1                  1.00  \n",
       "\n",
       "[5 rows x 41 columns]"
      ]
     },
     "execution_count": 5,
     "metadata": {},
     "output_type": "execute_result"
    }
   ],
   "source": [
    "test_games_df = games_df[games_df[\"id\"].isin(test_ids)]\n",
    "train_games_df = games_df[games_df[\"id\"].isin(train_ids)]\n",
    "train_games_df.head()"
   ]
  },
  {
   "cell_type": "code",
   "execution_count": null,
   "metadata": {},
   "outputs": [],
   "source": [
    "test_games_df.dropna(axis=1, inplace=True)\n",
    "train_games_df.dropna(axis=1, inplace=True)\n",
    "train_games_df.head()"
   ]
  },
  {
   "cell_type": "code",
   "execution_count": 7,
   "metadata": {},
   "outputs": [
    {
     "data": {
      "text/plain": [
       "Index(['home', 'points', 'fumblesRecovered', 'rushingTDs', 'passingTDs',\n",
       "       'firstDowns', 'totalYards', 'netPassingYards', 'yardsPerPass',\n",
       "       'rushingYards', 'rushingAttempts', 'yardsPerRushAttempt', 'turnovers',\n",
       "       'fumblesLost', 'interceptions', 'id', 'passAttempts', 'passAccuracy',\n",
       "       'penaltyYards', 'penalties', 'thirdDowns', 'thirdDownPercentage',\n",
       "       'fourthDowns', 'fourthDownPercentage'],\n",
       "      dtype='object')"
      ]
     },
     "execution_count": 7,
     "metadata": {},
     "output_type": "execute_result"
    }
   ],
   "source": [
    "test_games_df.keys()"
   ]
  },
  {
   "cell_type": "code",
   "execution_count": 8,
   "metadata": {},
   "outputs": [],
   "source": [
    "X_train = []\n",
    "y_train = []   "
   ]
  },
  {
   "cell_type": "code",
   "execution_count": null,
   "metadata": {},
   "outputs": [],
   "source": [
    "X_train = []\n",
    "y_train = []\n",
    "for id in train_ids:\n",
    "    temp = train_games_df.loc[train_games_df[\"id\"] == id]\n",
    "    temp_home = temp.loc[temp[\"home\"] == 1]\n",
    "    temp_away = temp.loc[temp[\"home\"] == 0]\n",
    "    y_train.append(np.array([temp_home[\"points\"], temp_away[\"points\"]]))\n",
    "    temp_home.drop([\"home\", \"points\", \"id\"], axis=1, inplace=True)\n",
    "    temp_away.drop([\"home\", \"points\", \"id\"], axis=1, inplace=True)\n",
    "\n",
    "    temp_home = temp_home.to_numpy()\n",
    "    temp_away = temp_away.to_numpy()\n",
    "    X_train.append(np.concatenate([temp_home, temp_away], axis=1)[0])\n",
    "\n",
    "X_train = np.array(X_train)\n",
    "y_train = np.array(y_train).reshape(-1, 2)"
   ]
  },
  {
   "cell_type": "code",
   "execution_count": null,
   "metadata": {},
   "outputs": [],
   "source": [
    "X_test = []\n",
    "y_test = []\n",
    "for id in test_ids:\n",
    "    temp = test_games_df.loc[test_games_df[\"id\"] == id]\n",
    "    temp_home = temp.loc[temp[\"home\"] == 1]\n",
    "    temp_away = temp.loc[temp[\"home\"] == 0]\n",
    "    y_test.append(np.array([temp_home[\"points\"], temp_away[\"points\"]]))\n",
    "    temp_home.drop([\"home\", \"points\", \"id\"], axis=1, inplace=True)\n",
    "    temp_away.drop([\"home\", \"points\", \"id\"], axis=1, inplace=True)\n",
    "\n",
    "    temp_home = temp_home.to_numpy()\n",
    "    temp_away = temp_away.to_numpy()\n",
    "    X_test.append(np.concatenate([temp_home, temp_away], axis=1)[0])\n",
    "\n",
    "X_test = np.array(X_test)\n",
    "y_test = np.array(y_test).reshape(-1, 2)"
   ]
  },
  {
   "cell_type": "markdown",
   "metadata": {},
   "source": [
    "Now we have the train and test data, we will scale the input to the model."
   ]
  },
  {
   "cell_type": "code",
   "execution_count": 11,
   "metadata": {},
   "outputs": [],
   "source": [
    "from sklearn.preprocessing import StandardScaler\n",
    "scaler = StandardScaler()\n",
    "scaler.fit(X_train)\n",
    "X_train_scaled = scaler.transform(X_train)\n",
    "X_test_scaled = scaler.transform(X_test)"
   ]
  },
  {
   "cell_type": "markdown",
   "metadata": {},
   "source": [
    "We now try Ridge regression with multiple alpha values"
   ]
  },
  {
   "cell_type": "code",
   "execution_count": 14,
   "metadata": {},
   "outputs": [
    {
     "data": {
      "text/html": [
       "<style>#sk-container-id-2 {color: black;}#sk-container-id-2 pre{padding: 0;}#sk-container-id-2 div.sk-toggleable {background-color: white;}#sk-container-id-2 label.sk-toggleable__label {cursor: pointer;display: block;width: 100%;margin-bottom: 0;padding: 0.3em;box-sizing: border-box;text-align: center;}#sk-container-id-2 label.sk-toggleable__label-arrow:before {content: \"▸\";float: left;margin-right: 0.25em;color: #696969;}#sk-container-id-2 label.sk-toggleable__label-arrow:hover:before {color: black;}#sk-container-id-2 div.sk-estimator:hover label.sk-toggleable__label-arrow:before {color: black;}#sk-container-id-2 div.sk-toggleable__content {max-height: 0;max-width: 0;overflow: hidden;text-align: left;background-color: #f0f8ff;}#sk-container-id-2 div.sk-toggleable__content pre {margin: 0.2em;color: black;border-radius: 0.25em;background-color: #f0f8ff;}#sk-container-id-2 input.sk-toggleable__control:checked~div.sk-toggleable__content {max-height: 200px;max-width: 100%;overflow: auto;}#sk-container-id-2 input.sk-toggleable__control:checked~label.sk-toggleable__label-arrow:before {content: \"▾\";}#sk-container-id-2 div.sk-estimator input.sk-toggleable__control:checked~label.sk-toggleable__label {background-color: #d4ebff;}#sk-container-id-2 div.sk-label input.sk-toggleable__control:checked~label.sk-toggleable__label {background-color: #d4ebff;}#sk-container-id-2 input.sk-hidden--visually {border: 0;clip: rect(1px 1px 1px 1px);clip: rect(1px, 1px, 1px, 1px);height: 1px;margin: -1px;overflow: hidden;padding: 0;position: absolute;width: 1px;}#sk-container-id-2 div.sk-estimator {font-family: monospace;background-color: #f0f8ff;border: 1px dotted black;border-radius: 0.25em;box-sizing: border-box;margin-bottom: 0.5em;}#sk-container-id-2 div.sk-estimator:hover {background-color: #d4ebff;}#sk-container-id-2 div.sk-parallel-item::after {content: \"\";width: 100%;border-bottom: 1px solid gray;flex-grow: 1;}#sk-container-id-2 div.sk-label:hover label.sk-toggleable__label {background-color: #d4ebff;}#sk-container-id-2 div.sk-serial::before {content: \"\";position: absolute;border-left: 1px solid gray;box-sizing: border-box;top: 0;bottom: 0;left: 50%;z-index: 0;}#sk-container-id-2 div.sk-serial {display: flex;flex-direction: column;align-items: center;background-color: white;padding-right: 0.2em;padding-left: 0.2em;position: relative;}#sk-container-id-2 div.sk-item {position: relative;z-index: 1;}#sk-container-id-2 div.sk-parallel {display: flex;align-items: stretch;justify-content: center;background-color: white;position: relative;}#sk-container-id-2 div.sk-item::before, #sk-container-id-2 div.sk-parallel-item::before {content: \"\";position: absolute;border-left: 1px solid gray;box-sizing: border-box;top: 0;bottom: 0;left: 50%;z-index: -1;}#sk-container-id-2 div.sk-parallel-item {display: flex;flex-direction: column;z-index: 1;position: relative;background-color: white;}#sk-container-id-2 div.sk-parallel-item:first-child::after {align-self: flex-end;width: 50%;}#sk-container-id-2 div.sk-parallel-item:last-child::after {align-self: flex-start;width: 50%;}#sk-container-id-2 div.sk-parallel-item:only-child::after {width: 0;}#sk-container-id-2 div.sk-dashed-wrapped {border: 1px dashed gray;margin: 0 0.4em 0.5em 0.4em;box-sizing: border-box;padding-bottom: 0.4em;background-color: white;}#sk-container-id-2 div.sk-label label {font-family: monospace;font-weight: bold;display: inline-block;line-height: 1.2em;}#sk-container-id-2 div.sk-label-container {text-align: center;}#sk-container-id-2 div.sk-container {/* jupyter's `normalize.less` sets `[hidden] { display: none; }` but bootstrap.min.css set `[hidden] { display: none !important; }` so we also need the `!important` here to be able to override the default hidden behavior on the sphinx rendered scikit-learn.org. See: https://github.com/scikit-learn/scikit-learn/issues/21755 */display: inline-block !important;position: relative;}#sk-container-id-2 div.sk-text-repr-fallback {display: none;}</style><div id=\"sk-container-id-2\" class=\"sk-top-container\"><div class=\"sk-text-repr-fallback\"><pre>Ridge(alpha=1)</pre><b>In a Jupyter environment, please rerun this cell to show the HTML representation or trust the notebook. <br />On GitHub, the HTML representation is unable to render, please try loading this page with nbviewer.org.</b></div><div class=\"sk-container\" hidden><div class=\"sk-item\"><div class=\"sk-estimator sk-toggleable\"><input class=\"sk-toggleable__control sk-hidden--visually\" id=\"sk-estimator-id-2\" type=\"checkbox\" checked><label for=\"sk-estimator-id-2\" class=\"sk-toggleable__label sk-toggleable__label-arrow\">Ridge</label><div class=\"sk-toggleable__content\"><pre>Ridge(alpha=1)</pre></div></div></div></div></div>"
      ],
      "text/plain": [
       "Ridge(alpha=1)"
      ]
     },
     "execution_count": 14,
     "metadata": {},
     "output_type": "execute_result"
    }
   ],
   "source": [
    "reg50 = Ridge(alpha=0.5)\n",
    "reg50.fit(X_train_scaled, y_train)\n",
    "\n",
    "reg25 = Ridge(alpha=0.25)\n",
    "reg25.fit(X_train_scaled, y_train)\n",
    "\n",
    "reg100 = Ridge(alpha=1)\n",
    "reg100.fit(X_train_scaled, y_train)"
   ]
  },
  {
   "cell_type": "markdown",
   "metadata": {},
   "source": [
    "We now make predictions with the three models on the test set and compute the mean absolute error. This metric is chosen because it tells us the average which each individual predicted score was off, which is the desired error to consider in the context of our problem."
   ]
  },
  {
   "cell_type": "code",
   "execution_count": 16,
   "metadata": {},
   "outputs": [
    {
     "name": "stdout",
     "output_type": "stream",
     "text": [
      "alpha: MAE are \n",
      " 0.25:3.0261386703903215 \n",
      " 0.50:3.0261482672430873 \n",
      " 1.00:3.0261614121716405\n"
     ]
    }
   ],
   "source": [
    "from sklearn.metrics import mean_absolute_error\n",
    "\n",
    "pred_scores25 = reg25.predict(X_test_scaled)\n",
    "pred_scores50 = reg50.predict(X_test_scaled)\n",
    "pred_scores100 = reg100.predict(X_test_scaled)\n",
    "\n",
    "print(f\"alpha: MAE are \\n 0.25:{mean_absolute_error(pred_scores25, y_test)} \\n 0.50:{mean_absolute_error(pred_scores50, y_test)} \\n 1.00:{mean_absolute_error(pred_scores100, y_test)}\")"
   ]
  },
  {
   "cell_type": "markdown",
   "metadata": {},
   "source": [
    "We are seeing that the weight term in Ridge regression seems to have minimal impact on the performance of the model. We try a couple other basic models:"
   ]
  },
  {
   "cell_type": "code",
   "execution_count": 26,
   "metadata": {},
   "outputs": [
    {
     "name": "stdout",
     "output_type": "stream",
     "text": [
      "MAE are Lasso:3.574690479879532, ElasticNet:4.373814267228159\n"
     ]
    }
   ],
   "source": [
    "from sklearn.linear_model import Lasso, ElasticNet\n",
    "\n",
    "lasso = Lasso(alpha=1)\n",
    "lasso.fit(X_train_scaled, y_train)\n",
    "\n",
    "ela_net = ElasticNet(alpha=1)\n",
    "ela_net.fit(X_train_scaled, y_train)\n",
    "\n",
    "print(f\"MAE are Lasso:{mean_absolute_error(lasso.predict(X_test_scaled), y_test)}, ElasticNet:{mean_absolute_error(ela_net.predict(X_test_scaled), y_test)}\")"
   ]
  },
  {
   "cell_type": "markdown",
   "metadata": {},
   "source": [
    "Interestingly, with some tests we found that as we increase the alpha parameter, performance goes down overall. This suggests that keeping all variables under consideration is nontrivially helping performance in the model. "
   ]
  },
  {
   "cell_type": "code",
   "execution_count": 48,
   "metadata": {},
   "outputs": [
    {
     "name": "stdout",
     "output_type": "stream",
     "text": [
      "MAE with linear regression:3.026167860418286\n"
     ]
    }
   ],
   "source": [
    "from sklearn.linear_model import LinearRegression\n",
    "\n",
    "linreg = LinearRegression()\n",
    "linreg.fit(X_train_scaled, y_train)\n",
    "\n",
    "print(f\"MAE with linear regression:{mean_absolute_error(linreg.predict(X_test_scaled), y_test)}\")"
   ]
  },
  {
   "cell_type": "code",
   "execution_count": 47,
   "metadata": {},
   "outputs": [
    {
     "data": {
      "image/png": "[encoded data removed]",
      "text/plain": [
       "<Figure size 640x480 with 1 Axes>"
      ]
     },
     "metadata": {},
     "output_type": "display_data"
    }
   ],
   "source": [
    "import matplotlib.pyplot as plt\n",
    "\n",
    "y_pred = linreg.predict(X_test_scaled)\n",
    "y_real = np.array(y_test)\n",
    "\n",
    "diff = y_pred - y_real\n",
    "\n",
    "plt.figure()\n",
    "#plt.scatter(y_pred[:,0], y_pred[:,1], color='r')\n",
    "plt.scatter(diff[:, 0], diff[:, 1], marker='o', s=5)\n",
    "plt.title(\"Error in predicted score by simple linear regression\")\n",
    "plt.xlabel(\"Difference in predicted home team score from real value\")\n",
    "plt.ylabel(\"Difference in predicted away team score from real value\")\n",
    "plt.grid()\n",
    "plt.show()"
   ]
  },
  {
   "cell_type": "code",
   "execution_count": 46,
   "metadata": {},
   "outputs": [
    {
     "name": "stdout",
     "output_type": "stream",
     "text": [
      "home error:2.8881012799919326, and away error:3.1642344408446377\n"
     ]
    }
   ],
   "source": [
    "print(f\"home error:{mean_absolute_error(y_pred[:, 0], y_real[:, 0])}, and away error:{mean_absolute_error(y_pred[:, 1], y_real[:, 1])}\")"
   ]
  },
  {
   "cell_type": "markdown",
   "metadata": {},
   "source": [
    "It is interesting to note that the home predictions are closer than the away predictions, on average by about 10%. This is something to keep track of as we add in more date and use more intricate models. It also may be interesting to look at outliers, such as the game where the away team prediction was dead-on but the home team prediction was off by ~24 points."
   ]
  },
  {
   "cell_type": "code",
   "execution_count": null,
   "metadata": {},
   "outputs": [],
   "source": []
  }
 ],
 "metadata": {
  "kernelspec": {
   "display_name": "data_science_bootcamp",
   "language": "python",
   "name": "python3"
  },
  "language_info": {
   "codemirror_mode": {
    "name": "ipython",
    "version": 3
   },
   "file_extension": ".py",
   "mimetype": "text/x-python",
   "name": "python",
   "nbconvert_exporter": "python",
   "pygments_lexer": "ipython3",
   "version": "3.11.5"
  }
 },
 "nbformat": 4,
 "nbformat_minor": 2
}
