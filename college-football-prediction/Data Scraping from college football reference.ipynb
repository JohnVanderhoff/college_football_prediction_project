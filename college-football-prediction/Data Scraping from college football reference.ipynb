{
 "cells": [
  {
   "cell_type": "code",
   "execution_count": 3,
   "metadata": {},
   "outputs": [],
   "source": [
    "import bs4\n",
    "from bs4 import BeautifulSoup\n",
    "import requests\n",
    "import pandas as pd\n",
    "import numpy as np\n",
    "from time import sleep"
   ]
  },
  {
   "cell_type": "markdown",
   "metadata": {},
   "source": [
    "### Practice Scraping on Sports Reference"
   ]
  },
  {
   "cell_type": "code",
   "execution_count": 4,
   "metadata": {},
   "outputs": [
    {
     "data": {
      "text/plain": [
       "200"
      ]
     },
     "execution_count": 4,
     "metadata": {},
     "output_type": "execute_result"
    }
   ],
   "source": [
    "response = requests.get(url=\"https://www.sports-reference.com/cfb/years/2023-team-offense.html\")\n",
    "response.status_code"
   ]
  },
  {
   "cell_type": "code",
   "execution_count": null,
   "metadata": {},
   "outputs": [],
   "source": [
    "soup = BeautifulSoup(response.text, 'html.parser')"
   ]
  },
  {
   "cell_type": "code",
   "execution_count": 69,
   "metadata": {},
   "outputs": [],
   "source": [
    "# Setting up a table\n",
    "# This is saying that the table will be everything in the tbody dropdown where soup finds a table object\n",
    "table_body = soup.find('table').tbody\n",
    "table_header = soup.find('table').thead"
   ]
  },
  {
   "cell_type": "markdown",
   "metadata": {},
   "source": [
    "div_list = []\n",
    "\n",
    "for ul in soup.find_all('ul', {'class' : 'list-box mb-3 spacer'}):\n",
    "    div_list.extend(ul.find_all('div', {'class' : 'name'}))\n",
    "\n",
    "print(div_list)"
   ]
  },
  {
   "cell_type": "code",
   "execution_count": 164,
   "metadata": {},
   "outputs": [
    {
     "data": {
      "text/plain": [
       "array([[0., 0., 0., ..., 0., 0., 0.],\n",
       "       [0., 0., 0., ..., 0., 0., 0.],\n",
       "       [0., 0., 0., ..., 0., 0., 0.],\n",
       "       ...,\n",
       "       [0., 0., 0., ..., 0., 0., 0.],\n",
       "       [0., 0., 0., ..., 0., 0., 0.],\n",
       "       [0., 0., 0., ..., 0., 0., 0.]])"
      ]
     },
     "execution_count": 164,
     "metadata": {},
     "output_type": "execute_result"
    }
   ],
   "source": [
    "# Example of finding all the school names from this table\n",
    "# [td.text for td in table.find_all('td', {'data-stat':'school_name'})]\n",
    "\n",
    "# Finding all of the stat box types I think\n",
    "\n",
    "\n",
    "# td.text for td in table.find_all('td')\n",
    "\n",
    "# all the tr's without the class 'over_header center'\n",
    "\n",
    "#  getting values and such\n",
    "column_name_full = [th.get('aria-label') for th in table_header.find_all('th')]\n",
    "column_details = [td.get('data-stat') for td in table_body.find_all('td')]\n",
    "column_values = [td.text for td in table_body.find_all('td')]\n",
    "\n",
    "# cleaning column name because I can't figure out where clauses in python\n",
    "column_name = [x for x in column_name_full if x != '']\n",
    "\n",
    "empty_array = np.zeros((len(column_name),len([td.text for td in table_body.find_all('td',{'data-stat': 'school_name'})])))\n",
    "\n",
    "empty_array\n",
    "\n",
    "# dict_temp = {}\n",
    "\n",
    "# pd.DataFrame(data = ,columns = column_details)\n",
    "\n",
    "\n"
   ]
  },
  {
   "cell_type": "code",
   "execution_count": 161,
   "metadata": {},
   "outputs": [
    {
     "data": {
      "text/plain": [
       "25"
      ]
     },
     "execution_count": 161,
     "metadata": {},
     "output_type": "execute_result"
    }
   ],
   "source": [
    "len([td.get('data-stat') for td in table_body.find_all('td')])\n",
    "len(column_name)"
   ]
  },
  {
   "cell_type": "code",
   "execution_count": null,
   "metadata": {},
   "outputs": [],
   "source": [
    "pd.DataFrame(data = ,columns = column_details)"
   ]
  }
 ],
 "metadata": {
  "kernelspec": {
   "display_name": "data_science_bootcamp",
   "language": "python",
   "name": "python3"
  },
  "language_info": {
   "codemirror_mode": {
    "name": "ipython",
    "version": 3
   },
   "file_extension": ".py",
   "mimetype": "text/x-python",
   "name": "python",
   "nbconvert_exporter": "python",
   "pygments_lexer": "ipython3",
   "version": "3.10.13"
  }
 },
 "nbformat": 4,
 "nbformat_minor": 2
}
