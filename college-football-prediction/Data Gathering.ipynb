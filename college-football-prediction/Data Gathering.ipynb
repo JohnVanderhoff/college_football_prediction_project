{
 "cells": [
  {
   "cell_type": "markdown",
   "metadata": {},
   "source": [
    "## College Football Prediction Project\n",
    "## Data Gathering & Cleaning\n",
    "by Nate Clause and John Vanderhoff\n",
    "***\n",
    "Data for this project was gathered from https://collegefootballdata.com/, specifically using their [built in API](https://api.collegefootballdata.com/api/docs/?url=/api-docs.json)\n",
    "\n",
    "Scope of data was all games (in the database) from 2016 - 2023\n"
   ]
  },
  {
   "cell_type": "code",
   "execution_count": 1,
   "metadata": {},
   "outputs": [],
   "source": [
    "# Setting up modules\n",
    "import pandas as pd\n",
    "import numpy as np\n",
    "from time import sleep\n",
    "import cfbd"
   ]
  },
  {
   "cell_type": "code",
   "execution_count": 2,
   "metadata": {},
   "outputs": [],
   "source": [
    "# configure the api key and set up the api instance\n",
    "configuration = cfbd.Configuration()\n",
    "configuration.api_key['Authorization'] = 'x9iZ68qCB07RD29TpFRkgqOEGRPR3XAy/25dzX9u9Z/h+PweYHyvF1I/FLjLooLM'\n",
    "configuration.api_key_prefix['Authorization'] = 'Bearer'\n",
    "\n",
    "api_config = cfbd.ApiClient(configuration)\n",
    "api_instance = cfbd.GamesApi(cfbd.ApiClient(configuration))"
   ]
  },
  {
   "cell_type": "code",
   "execution_count": 3,
   "metadata": {},
   "outputs": [],
   "source": [
    "# define a function to process the stats dictionary for a given team into the format we want for our dictionary\n",
    "def process_stats(stats):\n",
    "    stat_dict = {}\n",
    "\n",
    "    # loop over all statistics provided for a given team for a given game\n",
    "    for stat in stats:\n",
    "\n",
    "        # input the initial dictionary of the form {'category': 'statcategory', 'stat': 'value'} and add to new dictionary {'statcategory': 'value'}\n",
    "        stat_dict[stat.category] = stat.stat\n",
    "        \n",
    "    return stat_dict"
   ]
  },
  {
   "cell_type": "code",
   "execution_count": 4,
   "metadata": {},
   "outputs": [],
   "source": [
    "# input the team data for a given game and process then return the teams stats as a dictionary with proper home or away prefixes\n",
    "def team_game_dict(team_data, prefix):\n",
    "    game_dict = {}\n",
    "\n",
    "    # add in the \"outer-level\" game meta-data for the given team\n",
    "    game_dict[prefix + '_school'] = team_data.school\n",
    "    game_dict[prefix + '_school_id'] = team_data.school_id\n",
    "    game_dict[prefix + '_points'] = team_data.points\n",
    "\n",
    "    # extract the game statistics for the given team\n",
    "    game_stats = team_data.stats\n",
    "    stat_dict = process_stats(game_stats)\n",
    "    stat_dict = {prefix + '_' + key: val for key, val in stat_dict.items()}\n",
    "\n",
    "    game_dict.update(stat_dict)\n",
    "\n",
    "    return game_dict"
   ]
  },
  {
   "cell_type": "code",
   "execution_count": 5,
   "metadata": {},
   "outputs": [],
   "source": [
    "# function to input an entire game data list from an api call and return the dictionary of all relevant game data\n",
    "def game_processing(game):\n",
    "\n",
    "    # determine which team was home or away and then use the appropriate calls to the team_game_dict function\n",
    "    if game.teams[0].home_away == \"away\":\n",
    "        home_dict = team_game_dict(game.teams[0], 'home')\n",
    "        away_dict = team_game_dict(game.teams[1], 'away')\n",
    "    else:\n",
    "        home_dict = team_game_dict(game.teams[1], 'home')\n",
    "        away_dict = team_game_dict(game.teams[0], 'away')\n",
    "\n",
    "    # merge the dictionaries for the home and away team game data and add in the game id\n",
    "    home_dict.update(away_dict)\n",
    "    home_dict['id'] = game.id\n",
    "    \n",
    "    return home_dict   \n",
    "    "
   ]
  },
  {
   "cell_type": "code",
   "execution_count": 6,
   "metadata": {},
   "outputs": [],
   "source": [
    "all_games_list = []"
   ]
  },
  {
   "cell_type": "markdown",
   "metadata": {},
   "source": [
    "Run this code to download all data from relevant years:"
   ]
  },
  {
   "cell_type": "code",
   "execution_count": null,
   "metadata": {},
   "outputs": [],
   "source": [
    "games_list = []\n",
    "\n",
    "for year in range(2014,2024):\n",
    "# loop over all the weeks in a season, up to 15 possible\n",
    "    for week in range(1, 16):\n",
    "        \n",
    "        # make the api call to gather all the game stats for a given week\n",
    "        games_week = api_instance.get_team_game_stats(year=year, week=week, classification='fbs')\n",
    "\n",
    "        if len(games_week) == 0:\n",
    "            continue\n",
    "        \n",
    "        # loop over every game and extract the game data as a dictionary, appending it to the list\n",
    "        for game in games_week:\n",
    "            game_dict = game_processing(game)\n",
    "            game_dict['year'] = year\n",
    "            game_dict['week'] = week\n",
    "            games_list.append(game_dict)\n",
    "            \n",
    "        print(f\"year {year} week {week} finished\")\n",
    "\n",
    "    all_games_list = all_games_list + games_list"
   ]
  },
  {
   "cell_type": "code",
   "execution_count": null,
   "metadata": {},
   "outputs": [],
   "source": [
    "games_df = pd.DataFrame.from_records(all_games_list)\n",
    "games_df.head()"
   ]
  },
  {
   "cell_type": "code",
   "execution_count": null,
   "metadata": {},
   "outputs": [],
   "source": [
    "games_df.drop_duplicates(inplace=True)\n",
    "games_df.to_csv('all_games_data.csv')"
   ]
  }
 ],
 "metadata": {
  "kernelspec": {
   "display_name": "base",
   "language": "python",
   "name": "python3"
  },
  "language_info": {
   "codemirror_mode": {
    "name": "ipython",
    "version": 3
   },
   "file_extension": ".py",
   "mimetype": "text/x-python",
   "name": "python",
   "nbconvert_exporter": "python",
   "pygments_lexer": "ipython3",
   "version": "3.9.13"
  }
 },
 "nbformat": 4,
 "nbformat_minor": 2
}
