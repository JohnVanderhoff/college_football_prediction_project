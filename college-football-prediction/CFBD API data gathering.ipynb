{
 "cells": [
  {
   "cell_type": "markdown",
   "metadata": {},
   "source": [
    "## College Football Data API Stuff"
   ]
  },
  {
   "cell_type": "code",
   "execution_count": 1,
   "metadata": {},
   "outputs": [],
   "source": [
    "import bs4\n",
    "from bs4 import BeautifulSoup\n",
    "import requests\n",
    "import pandas as pd\n",
    "import numpy as np\n",
    "from time import sleep\n",
    "import cfbd\n",
    "import matplotlib.pyplot as plt\n",
    "import seaborn as sns"
   ]
  },
  {
   "cell_type": "code",
   "execution_count": 2,
   "metadata": {},
   "outputs": [],
   "source": [
    "configuration = cfbd.Configuration()\n",
    "configuration.api_key['Authorization'] = 'cCUuy68SmBD3qQ/HK1HZ0cks/gHrSkPiSUdcom44hDyV49P3syOpoiFJnGq8MDDY'\n",
    "configuration.api_key_prefix['Authorization'] = 'Bearer'\n",
    "\n",
    "api_config = cfbd.ApiClient(configuration)"
   ]
  },
  {
   "cell_type": "code",
   "execution_count": 3,
   "metadata": {},
   "outputs": [],
   "source": [
    "api_instance = cfbd.GamesApi(cfbd.ApiClient(configuration))\n",
    "#api_response = api_instance.get_team_game_stats(year=2023, week=1, classification=\"fbs\")\n",
    "#print(api_response[0])"
   ]
  },
  {
   "cell_type": "code",
   "execution_count": 11,
   "metadata": {},
   "outputs": [],
   "source": [
    "games_2023 = api_instance.get_team_game_stats(year=2023, week = 1, classification=\"fbs\")"
   ]
  },
  {
   "cell_type": "code",
   "execution_count": 12,
   "metadata": {},
   "outputs": [
    {
     "name": "stdout",
     "output_type": "stream",
     "text": [
      "94\n"
     ]
    }
   ],
   "source": [
    "print(len(games_2023))"
   ]
  },
  {
   "cell_type": "code",
   "execution_count": 17,
   "metadata": {},
   "outputs": [],
   "source": [
    "game = games_2023[0]"
   ]
  },
  {
   "cell_type": "code",
   "execution_count": 18,
   "metadata": {},
   "outputs": [
    {
     "name": "stdout",
     "output_type": "stream",
     "text": [
      "[{'category': 'rushingTDs', 'stat': '0'}, {'category': 'passingTDs', 'stat': '0'}, {'category': 'kickReturnYards', 'stat': '12'}, {'category': 'kickReturnTDs', 'stat': '0'}, {'category': 'kickReturns', 'stat': '1'}, {'category': 'kickingPoints', 'stat': '3'}, {'category': 'fumblesRecovered', 'stat': '0'}, {'category': 'totalFumbles', 'stat': '3'}, {'category': 'tacklesForLoss', 'stat': '2'}, {'category': 'defensiveTDs', 'stat': '0'}, {'category': 'tackles', 'stat': '42'}, {'category': 'sacks', 'stat': '0'}, {'category': 'qbHurries', 'stat': '1'}, {'category': 'passesDeflected', 'stat': '2'}, {'category': 'possessionTime', 'stat': '33:14'}, {'category': 'interceptions', 'stat': '0'}, {'category': 'fumblesLost', 'stat': '0'}, {'category': 'turnovers', 'stat': '0'}, {'category': 'totalPenaltiesYards', 'stat': '3-26'}, {'category': 'yardsPerRushAttempt', 'stat': '2.6'}, {'category': 'rushingAttempts', 'stat': '48'}, {'category': 'rushingYards', 'stat': '126'}, {'category': 'yardsPerPass', 'stat': '6.1'}, {'category': 'completionAttempts', 'stat': '3-7'}, {'category': 'netPassingYards', 'stat': '43'}, {'category': 'totalYards', 'stat': '169'}, {'category': 'fourthDownEff', 'stat': '3-4'}, {'category': 'thirdDownEff', 'stat': '4-14'}, {'category': 'firstDowns', 'stat': '12'}]\n"
     ]
    }
   ],
   "source": [
    "print(games_2023[0].teams[0].stats)"
   ]
  },
  {
   "cell_type": "code",
   "execution_count": 14,
   "metadata": {},
   "outputs": [
    {
     "name": "stdout",
     "output_type": "stream",
     "text": [
      "[{'category': 'rushingTDs', 'stat': '0'}, {'category': 'passingTDs', 'stat': '0'}, {'category': 'kickReturnYards', 'stat': '12'}, {'category': 'kickReturnTDs', 'stat': '0'}, {'category': 'kickReturns', 'stat': '1'}, {'category': 'kickingPoints', 'stat': '3'}, {'category': 'fumblesRecovered', 'stat': '0'}, {'category': 'totalFumbles', 'stat': '3'}, {'category': 'tacklesForLoss', 'stat': '2'}, {'category': 'defensiveTDs', 'stat': '0'}, {'category': 'tackles', 'stat': '42'}, {'category': 'sacks', 'stat': '0'}, {'category': 'qbHurries', 'stat': '1'}, {'category': 'passesDeflected', 'stat': '2'}, {'category': 'possessionTime', 'stat': '33:14'}, {'category': 'interceptions', 'stat': '0'}, {'category': 'fumblesLost', 'stat': '0'}, {'category': 'turnovers', 'stat': '0'}, {'category': 'totalPenaltiesYards', 'stat': '3-26'}, {'category': 'yardsPerRushAttempt', 'stat': '2.6'}, {'category': 'rushingAttempts', 'stat': '48'}, {'category': 'rushingYards', 'stat': '126'}, {'category': 'yardsPerPass', 'stat': '6.1'}, {'category': 'completionAttempts', 'stat': '3-7'}, {'category': 'netPassingYards', 'stat': '43'}, {'category': 'totalYards', 'stat': '169'}, {'category': 'fourthDownEff', 'stat': '3-4'}, {'category': 'thirdDownEff', 'stat': '4-14'}, {'category': 'firstDowns', 'stat': '12'}]\n",
      "{'rushingTDs': '0', 'passingTDs': '0', 'kickReturnYards': '12', 'kickReturnTDs': '0', 'kickReturns': '1', 'kickingPoints': '3', 'fumblesRecovered': '0', 'totalFumbles': '3', 'tacklesForLoss': '2', 'defensiveTDs': '0', 'tackles': '42', 'sacks': '0', 'qbHurries': '1', 'passesDeflected': '2', 'possessionTime': '33:14', 'interceptions': '0', 'fumblesLost': '0', 'turnovers': '0', 'totalPenaltiesYards': '3-26', 'yardsPerRushAttempt': '2.6', 'rushingAttempts': '48', 'rushingYards': '126', 'yardsPerPass': '6.1', 'completionAttempts': '3-7', 'netPassingYards': '43', 'totalYards': '169', 'fourthDownEff': '3-4', 'thirdDownEff': '4-14', 'firstDowns': '12'}\n"
     ]
    }
   ],
   "source": [
    "#print(games_2023[0].teams[0])\n",
    "stats = games_2023[0].teams[0].stats\n",
    "print(stats)\n",
    "newdict = {}\n",
    "newdict[stats[0].category] = stats[0].stat\n",
    "for stat in stats:\n",
    "    newdict[stat.category] = stat.stat\n",
    "print(newdict)"
   ]
  },
  {
   "cell_type": "code",
   "execution_count": 19,
   "metadata": {},
   "outputs": [],
   "source": [
    "def process_stats(stats):\n",
    "    stat_dict = {}\n",
    "    print(stats)\n",
    "    for stat in stats:\n",
    "        stat_dict[stat.category] = stat.stat\n",
    "    return stat_dict"
   ]
  },
  {
   "cell_type": "code",
   "execution_count": 25,
   "metadata": {},
   "outputs": [],
   "source": [
    "def get_home_dict(home_data):\n",
    "    home_dict = {}\n",
    "    home_dict['home_school'] = home_data.school\n",
    "    home_dict['home_school_id'] = home_data.school_id\n",
    "    home_dict['home_points'] = home_data.points\n",
    "    home_stats = home_data.stats\n",
    "    stat_dict = process_stats(home_stats)\n",
    "    stat_dict = {f\"home_{key}\": val for key, val in stat_dict.items()}\n",
    "\n",
    "    home_dict.update(stat_dict)\n",
    "    return home_dict\n"
   ]
  },
  {
   "cell_type": "code",
   "execution_count": 12,
   "metadata": {},
   "outputs": [],
   "source": [
    "def game_processing(game):\n",
    "    game_dict = {'id':game.id}\n",
    "    if game.teams[0].home_away == \"away\":\n",
    "        home_dict = get_home_dict(game.teams[0])\n",
    "        away_dict = get_away_dict(game.teams[1])\n",
    "    else:\n",
    "        home_dict = get_home_dict(game.teams[1])\n",
    "        away_dict = get_away_dict(game.teams[0])\n",
    "    game_dict = home_dict.update(away_dict)\n",
    "    game_dict['id'] = game.id\n",
    "\n",
    "    return game_dict\n",
    "    \n",
    "    "
   ]
  },
  {
   "cell_type": "code",
   "execution_count": 26,
   "metadata": {},
   "outputs": [
    {
     "name": "stdout",
     "output_type": "stream",
     "text": [
      "[{'category': 'rushingTDs', 'stat': '0'}, {'category': 'passingTDs', 'stat': '0'}, {'category': 'kickReturnYards', 'stat': '12'}, {'category': 'kickReturnTDs', 'stat': '0'}, {'category': 'kickReturns', 'stat': '1'}, {'category': 'kickingPoints', 'stat': '3'}, {'category': 'fumblesRecovered', 'stat': '0'}, {'category': 'totalFumbles', 'stat': '3'}, {'category': 'tacklesForLoss', 'stat': '2'}, {'category': 'defensiveTDs', 'stat': '0'}, {'category': 'tackles', 'stat': '42'}, {'category': 'sacks', 'stat': '0'}, {'category': 'qbHurries', 'stat': '1'}, {'category': 'passesDeflected', 'stat': '2'}, {'category': 'possessionTime', 'stat': '33:14'}, {'category': 'interceptions', 'stat': '0'}, {'category': 'fumblesLost', 'stat': '0'}, {'category': 'turnovers', 'stat': '0'}, {'category': 'totalPenaltiesYards', 'stat': '3-26'}, {'category': 'yardsPerRushAttempt', 'stat': '2.6'}, {'category': 'rushingAttempts', 'stat': '48'}, {'category': 'rushingYards', 'stat': '126'}, {'category': 'yardsPerPass', 'stat': '6.1'}, {'category': 'completionAttempts', 'stat': '3-7'}, {'category': 'netPassingYards', 'stat': '43'}, {'category': 'totalYards', 'stat': '169'}, {'category': 'fourthDownEff', 'stat': '3-4'}, {'category': 'thirdDownEff', 'stat': '4-14'}, {'category': 'firstDowns', 'stat': '12'}]\n",
      "{'home_school': 'Navy', 'home_school_id': 2426, 'home_points': 3, 'home_rushingTDs': '0', 'home_passingTDs': '0', 'home_kickReturnYards': '12', 'home_kickReturnTDs': '0', 'home_kickReturns': '1', 'home_kickingPoints': '3', 'home_fumblesRecovered': '0', 'home_totalFumbles': '3', 'home_tacklesForLoss': '2', 'home_defensiveTDs': '0', 'home_tackles': '42', 'home_sacks': '0', 'home_qbHurries': '1', 'home_passesDeflected': '2', 'home_possessionTime': '33:14', 'home_interceptions': '0', 'home_fumblesLost': '0', 'home_turnovers': '0', 'home_totalPenaltiesYards': '3-26', 'home_yardsPerRushAttempt': '2.6', 'home_rushingAttempts': '48', 'home_rushingYards': '126', 'home_yardsPerPass': '6.1', 'home_completionAttempts': '3-7', 'home_netPassingYards': '43', 'home_totalYards': '169', 'home_fourthDownEff': '3-4', 'home_thirdDownEff': '4-14', 'home_firstDowns': '12'}\n"
     ]
    }
   ],
   "source": [
    "test = get_home_dict(game.teams[0])\n",
    "print(test)"
   ]
  },
  {
   "cell_type": "code",
   "execution_count": 24,
   "metadata": {},
   "outputs": [
    {
     "name": "stdout",
     "output_type": "stream",
     "text": [
      "None\n"
     ]
    }
   ],
   "source": [
    "print(test)"
   ]
  },
  {
   "cell_type": "code",
   "execution_count": null,
   "metadata": {},
   "outputs": [],
   "source": []
  }
 ],
 "metadata": {
  "kernelspec": {
   "display_name": "data_science_bootcamp",
   "language": "python",
   "name": "python3"
  },
  "language_info": {
   "codemirror_mode": {
    "name": "ipython",
    "version": 3
   },
   "file_extension": ".py",
   "mimetype": "text/x-python",
   "name": "python",
   "nbconvert_exporter": "python",
   "pygments_lexer": "ipython3",
   "version": "3.11.5"
  }
 },
 "nbformat": 4,
 "nbformat_minor": 2
}
